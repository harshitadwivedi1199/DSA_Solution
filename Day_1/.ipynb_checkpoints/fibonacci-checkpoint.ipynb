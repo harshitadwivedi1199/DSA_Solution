{
 "cells": [
  {
   "cell_type": "code",
   "execution_count": 23,
   "id": "9fa05f32",
   "metadata": {},
   "outputs": [],
   "source": [
    "#without using recursion\n",
    "def getNthFib(n):\n",
    "    f1=0\n",
    "    f2=1\n",
    "    if n == 1:\n",
    "        return f1\n",
    "    elif n == 2:\n",
    "        return f2\n",
    "    elif n >= 3: \n",
    "        i = 3\n",
    "        \n",
    "        while i <= n:\n",
    "            f3 = f1+f2\n",
    "            f1 , f2 = f2 , f3\n",
    "            i+=1\n",
    "        return f3\n",
    "    "
   ]
  },
  {
   "cell_type": "code",
   "execution_count": 33,
   "id": "b184ce84",
   "metadata": {},
   "outputs": [
    {
     "name": "stdout",
     "output_type": "stream",
     "text": [
      "Enter nth value : 6\n"
     ]
    }
   ],
   "source": [
    "n = int(input(\"Enter nth value : \"))\n"
   ]
  },
  {
   "cell_type": "code",
   "execution_count": 34,
   "id": "9fa73204",
   "metadata": {},
   "outputs": [],
   "source": [
    "nf = getNthFib(n)"
   ]
  },
  {
   "cell_type": "code",
   "execution_count": 36,
   "id": "044655e3",
   "metadata": {},
   "outputs": [
    {
     "name": "stdout",
     "output_type": "stream",
     "text": [
      "Nth value :  5\n"
     ]
    }
   ],
   "source": [
    "print(\"Nth value : \" , nf )"
   ]
  },
  {
   "cell_type": "code",
   "execution_count": 45,
   "id": "efa5eda9",
   "metadata": {},
   "outputs": [],
   "source": [
    "# using recursion\n",
    "def getNthFib(n):\n",
    "    if n == 1:\n",
    "        return 0\n",
    "    elif n == 2:\n",
    "        return 1\n",
    "    else:\n",
    "        return getNthFib(n-1) + getNthFib(n-2)"
   ]
  },
  {
   "cell_type": "code",
   "execution_count": 41,
   "id": "0820c280",
   "metadata": {},
   "outputs": [
    {
     "name": "stdout",
     "output_type": "stream",
     "text": [
      "Enter nth value : 6\n"
     ]
    }
   ],
   "source": [
    "n = int(input(\"Enter nth value : \"))\n"
   ]
  },
  {
   "cell_type": "code",
   "execution_count": 42,
   "id": "48702609",
   "metadata": {},
   "outputs": [],
   "source": [
    "nf = getNthFib(n)"
   ]
  },
  {
   "cell_type": "code",
   "execution_count": 43,
   "id": "08fdac57",
   "metadata": {},
   "outputs": [
    {
     "name": "stdout",
     "output_type": "stream",
     "text": [
      "Nth value :  5\n"
     ]
    }
   ],
   "source": [
    "print(\"Nth value : \" , nf )"
   ]
  },
  {
   "cell_type": "code",
   "execution_count": null,
   "id": "2445ffda",
   "metadata": {},
   "outputs": [],
   "source": []
  }
 ],
 "metadata": {
  "kernelspec": {
   "display_name": "Python 3",
   "language": "python",
   "name": "python3"
  },
  "language_info": {
   "codemirror_mode": {
    "name": "ipython",
    "version": 3
   },
   "file_extension": ".py",
   "mimetype": "text/x-python",
   "name": "python",
   "nbconvert_exporter": "python",
   "pygments_lexer": "ipython3",
   "version": "3.8.8"
  }
 },
 "nbformat": 4,
 "nbformat_minor": 5
}
