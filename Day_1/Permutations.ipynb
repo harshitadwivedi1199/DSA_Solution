{
 "cells": [
  {
   "cell_type": "code",
   "execution_count": 25,
   "id": "3a5dbbc9",
   "metadata": {},
   "outputs": [],
   "source": [
    "def getPermutations(array):\n",
    "    permutations = []\n",
    "    permutationsHelper(0,array,permutations)\n",
    "    return permutations"
   ]
  },
  {
   "cell_type": "code",
   "execution_count": 29,
   "id": "cb3741e2",
   "metadata": {},
   "outputs": [],
   "source": [
    "def permutationsHelper(i,array,permutations):\n",
    "    if i == len(array)-1:\n",
    "        permutations.append(array[:])\n",
    "    else:\n",
    "        for j in range(i,len(array)):\n",
    "            array[i],array[j] = array[j],array[i]\n",
    "            permutationsHelper(i+1,array,permutations)\n",
    "            array[i],array[j] = array[j],array[i]\n",
    "            "
   ]
  },
  {
   "cell_type": "code",
   "execution_count": 30,
   "id": "69bd6ce7",
   "metadata": {},
   "outputs": [],
   "source": [
    "array=[1,2,3]"
   ]
  },
  {
   "cell_type": "code",
   "execution_count": 31,
   "id": "19527b32",
   "metadata": {},
   "outputs": [
    {
     "data": {
      "text/plain": [
       "[[1, 2, 3], [1, 3, 2], [2, 1, 3], [2, 3, 1], [3, 2, 1], [3, 1, 2]]"
      ]
     },
     "execution_count": 31,
     "metadata": {},
     "output_type": "execute_result"
    }
   ],
   "source": [
    "getPermutations(array)"
   ]
  },
  {
   "cell_type": "code",
   "execution_count": null,
   "id": "36bd7d29",
   "metadata": {},
   "outputs": [],
   "source": []
  }
 ],
 "metadata": {
  "kernelspec": {
   "display_name": "Python 3",
   "language": "python",
   "name": "python3"
  },
  "language_info": {
   "codemirror_mode": {
    "name": "ipython",
    "version": 3
   },
   "file_extension": ".py",
   "mimetype": "text/x-python",
   "name": "python",
   "nbconvert_exporter": "python",
   "pygments_lexer": "ipython3",
   "version": "3.8.8"
  }
 },
 "nbformat": 4,
 "nbformat_minor": 5
}
