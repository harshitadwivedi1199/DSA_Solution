{
 "cells": [
  {
   "cell_type": "code",
   "execution_count": 5,
   "id": "9adfabde",
   "metadata": {},
   "outputs": [],
   "source": [
    "array1 = [1,2,3]"
   ]
  },
  {
   "cell_type": "code",
   "execution_count": 6,
   "id": "6a132e13",
   "metadata": {},
   "outputs": [],
   "source": [
    "subsets = [[]]"
   ]
  },
  {
   "cell_type": "code",
   "execution_count": 7,
   "id": "94fca1a6",
   "metadata": {},
   "outputs": [],
   "source": [
    "for i in array1:\n",
    "    for j in range(len(subsets)):\n",
    "        s = subsets[j]\n",
    "        subsets.append(s+[i])"
   ]
  },
  {
   "cell_type": "code",
   "execution_count": 8,
   "id": "f09a7497",
   "metadata": {},
   "outputs": [
    {
     "data": {
      "text/plain": [
       "[[], [1], [2], [1, 2], [3], [1, 3], [2, 3], [1, 2, 3]]"
      ]
     },
     "execution_count": 8,
     "metadata": {},
     "output_type": "execute_result"
    }
   ],
   "source": [
    "subsets\n"
   ]
  },
  {
   "cell_type": "code",
   "execution_count": 9,
   "id": "d4a4e516",
   "metadata": {},
   "outputs": [],
   "source": [
    "arr2 = [1,2]"
   ]
  },
  {
   "cell_type": "code",
   "execution_count": 10,
   "id": "538fa273",
   "metadata": {},
   "outputs": [
    {
     "data": {
      "text/plain": [
       "1"
      ]
     },
     "execution_count": 10,
     "metadata": {},
     "output_type": "execute_result"
    }
   ],
   "source": [
    "subsets2 = [[]]\n",
    "len(subsets2)"
   ]
  },
  {
   "cell_type": "code",
   "execution_count": 11,
   "id": "0292316d",
   "metadata": {},
   "outputs": [
    {
     "name": "stdout",
     "output_type": "stream",
     "text": [
      "=> 1\n",
      "0  ---->  []\n",
      "[[], [1]]\n",
      " subset= [[], [1]]\n",
      "=> 2\n",
      "0  ---->  []\n",
      "[[], [1], [2]]\n",
      "1  ---->  [1]\n",
      "[[], [1], [2], [1, 2]]\n",
      " subset= [[], [1], [2], [1, 2]]\n"
     ]
    }
   ],
   "source": [
    "for i in arr2:\n",
    "    print(\"=>\", i )\n",
    "    for j in range(len(subsets2)):\n",
    "        s = subsets2[j]\n",
    "        print(j , \" ----> \" , s)\n",
    "        subsets2.append(s+[i])\n",
    "        print(subsets2)\n",
    "    print(\" subset=\" , subsets2)    "
   ]
  },
  {
   "cell_type": "code",
   "execution_count": 12,
   "id": "e7d5b1ac",
   "metadata": {},
   "outputs": [
    {
     "data": {
      "text/plain": [
       "[[], [1], [2], [1, 2]]"
      ]
     },
     "execution_count": 12,
     "metadata": {},
     "output_type": "execute_result"
    }
   ],
   "source": [
    "subsets2"
   ]
  },
  {
   "cell_type": "code",
   "execution_count": 13,
   "id": "64d6b21e",
   "metadata": {},
   "outputs": [],
   "source": [
    "#using recursion"
   ]
  },
  {
   "cell_type": "code",
   "execution_count": 14,
   "id": "140a933f",
   "metadata": {},
   "outputs": [],
   "source": [
    "subsets3 = [[]]\n",
    "array = [1,2,3]\n",
    "def powerset(array , idx=None):\n",
    "    if idx is None :\n",
    "        idx = len(array)-1\n",
    "    if  idx <0 :\n",
    "        return [[]]\n",
    "    ele = array[idx]\n",
    "    subsets3 = powerset(array , idx-1)\n",
    "    for i in range(len(subsets3)):\n",
    "        currentsubset=subsets3[i]\n",
    "        subsets3.append(currentsubset + [ele])\n",
    "    return subsets3"
   ]
  },
  {
   "cell_type": "code",
   "execution_count": 15,
   "id": "ab3c4c95",
   "metadata": {},
   "outputs": [
    {
     "data": {
      "text/plain": [
       "[[], [1], [2], [1, 2], [3], [1, 3], [2, 3], [1, 2, 3]]"
      ]
     },
     "execution_count": 15,
     "metadata": {},
     "output_type": "execute_result"
    }
   ],
   "source": [
    "powerset(array)"
   ]
  }
 ],
 "metadata": {
  "kernelspec": {
   "display_name": "Python 3",
   "language": "python",
   "name": "python3"
  },
  "language_info": {
   "codemirror_mode": {
    "name": "ipython",
    "version": 3
   },
   "file_extension": ".py",
   "mimetype": "text/x-python",
   "name": "python",
   "nbconvert_exporter": "python",
   "pygments_lexer": "ipython3",
   "version": "3.8.8"
  }
 },
 "nbformat": 4,
 "nbformat_minor": 5
}
